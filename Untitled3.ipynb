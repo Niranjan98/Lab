{
  "nbformat": 4,
  "nbformat_minor": 0,
  "metadata": {
    "colab": {
      "name": "Untitled3.ipynb",
      "version": "0.3.2",
      "provenance": [],
      "include_colab_link": true
    },
    "kernelspec": {
      "name": "python3",
      "display_name": "Python 3"
    }
  },
  "cells": [
    {
      "cell_type": "markdown",
      "metadata": {
        "id": "view-in-github",
        "colab_type": "text"
      },
      "source": [
        "<a href=\"https://colab.research.google.com/github/Niranjan98/Lab/blob/master/Untitled3.ipynb\" target=\"_parent\"><img src=\"https://colab.research.google.com/assets/colab-badge.svg\" alt=\"Open In Colab\"/></a>"
      ]
    },
    {
      "cell_type": "code",
      "metadata": {
        "id": "XBwCH56BCGU6",
        "colab_type": "code",
        "colab": {}
      },
      "source": [
        "import pandas as pd\n",
        "from pandas import DataFrame\n",
        "df_Tennis = pd.read_csv(r\"/content/weather.csv\")"
      ],
      "execution_count": 0,
      "outputs": []
    },
    {
      "cell_type": "code",
      "metadata": {
        "id": "-sVFr21vfVzr",
        "colab_type": "code",
        "colab": {}
      },
      "source": [
        "def Entropy(probs):\n",
        "    import math\n",
        "    return sum([-prob*math.log(prob,2) for prob in probs])"
      ],
      "execution_count": 0,
      "outputs": []
    },
    {
      "cell_type": "code",
      "metadata": {
        "id": "CYZLG4G1fcr6",
        "colab_type": "code",
        "colab": {
          "base_uri": "https://localhost:8080/",
          "height": 51
        },
        "outputId": "fc6eed6d-7af2-44ec-ca66-debefd673731"
      },
      "source": [
        "def Entropy_of_list(a_list):\n",
        "    from collections import Counter\n",
        "    cnt = Counter(x for x in a_list)\n",
        "    print(\" No and Yes classes:\",a_list.name,cnt)\n",
        "    num_ins = len(a_list)*1.0\n",
        "    probs = [x/num_ins for x in cnt.values()]\n",
        "    return Entropy(probs)\n",
        "total_entropy = Entropy_of_list(df_Tennis['PlayTennis'])\n",
        "total_entropy"
      ],
      "execution_count": 4,
      "outputs": [
        {
          "output_type": "stream",
          "text": [
            " No and Yes classes: PlayTennis Counter({'yes': 9, 'no': 5})\n"
          ],
          "name": "stdout"
        },
        {
          "output_type": "execute_result",
          "data": {
            "text/plain": [
              "0.9402859586706309"
            ]
          },
          "metadata": {
            "tags": []
          },
          "execution_count": 4
        }
      ]
    },
    {
      "cell_type": "code",
      "metadata": {
        "id": "UvwfM2VLfeMq",
        "colab_type": "code",
        "colab": {
          "base_uri": "https://localhost:8080/",
          "height": 391
        },
        "outputId": "da5bbf96-6abd-4b82-f47e-938b1049140e"
      },
      "source": [
        "def information_gain(df,split_attr_name,target_attr_name,trace=0):\n",
        "    df_split = df.groupby(split_attr_name)\n",
        "    for name,group in df_split:\n",
        "        nobs = len(df.index)*1.0\n",
        "        df_aggr_ent = df_split.agg({target_attr_name:[Entropy_of_list,lambda x:len(x)/nobs]})\n",
        "        df_aggr_ent.columns = ['Entropy','propobservation']\n",
        "        new_entr = sum(df_aggr_ent['Entropy']*df_aggr_ent['propobservation'])\n",
        "        old_entr = Entropy_of_list(df[target_attr_name])\n",
        "        return old_entr-new_entr\n",
        "\n",
        "print('info gain of outlook is:'+str(information_gain(df_Tennis,'Outlook','PlayTennis')),\"\\n\")\n",
        "print('info gain of outlook is:'+str(information_gain(df_Tennis,'Temperature','PlayTennis')),\"\\n\")\n",
        "print('info gain of outlook is:'+str(information_gain(df_Tennis,'Humidity','PlayTennis')),\"\\n\")\n",
        "print('info gain of outlook is:'+str(information_gain(df_Tennis,'Wind','PlayTennis')),\"\\n\")"
      ],
      "execution_count": 5,
      "outputs": [
        {
          "output_type": "stream",
          "text": [
            " No and Yes classes: PlayTennis Counter({'yes': 4})\n",
            " No and Yes classes: PlayTennis Counter({'yes': 3, 'no': 2})\n",
            " No and Yes classes: PlayTennis Counter({'no': 3, 'yes': 2})\n",
            " No and Yes classes: PlayTennis Counter({'yes': 9, 'no': 5})\n",
            "info gain of outlook is:0.2467498197744391 \n",
            "\n",
            " No and Yes classes: PlayTennis Counter({'yes': 3, 'no': 1})\n",
            " No and Yes classes: PlayTennis Counter({'no': 2, 'yes': 2})\n",
            " No and Yes classes: PlayTennis Counter({'yes': 4, 'no': 2})\n",
            " No and Yes classes: PlayTennis Counter({'yes': 9, 'no': 5})\n",
            "info gain of outlook is:0.029222565658954647 \n",
            "\n",
            " No and Yes classes: PlayTennis Counter({'no': 4, 'yes': 3})\n",
            " No and Yes classes: PlayTennis Counter({'yes': 6, 'no': 1})\n",
            " No and Yes classes: PlayTennis Counter({'yes': 9, 'no': 5})\n",
            "info gain of outlook is:0.15183550136234136 \n",
            "\n",
            " No and Yes classes: PlayTennis Counter({'no': 3, 'yes': 3})\n",
            " No and Yes classes: PlayTennis Counter({'yes': 6, 'no': 2})\n",
            " No and Yes classes: PlayTennis Counter({'yes': 9, 'no': 5})\n",
            "info gain of outlook is:0.04812703040826927 \n",
            "\n"
          ],
          "name": "stdout"
        }
      ]
    },
    {
      "cell_type": "code",
      "metadata": {
        "id": "PrMwyJkmfjsa",
        "colab_type": "code",
        "colab": {}
      },
      "source": [
        "def id3(df,target_attr_name,attr_name,default_class = None):\n",
        "    from collections import Counter\n",
        "    cnt = Counter(x for x in df[target_attr_name])\n",
        "    \n",
        "    if len(cnt) == 1:\n",
        "        return next(iter(cnt))\n",
        "    elif df.empty or (not attr_name):\n",
        "        return default_class\n",
        "    else:\n",
        "        gainz = [information_gain(df,attr,target_attr_name) for attr in attr_name]\n",
        "        index_of_max = gainz.index(max(gainz))\n",
        "        best_attr = attr_name[index_of_max]\n",
        "        tree = {best_attr:{}}\n",
        "        remaining_attr = [ i for i in attr_name if i!=best_attr]\n",
        "        \n",
        "        for attr_val,data_subset in df.groupby(best_attr):\n",
        "            subtree = id3(data_subset,target_attr_name,remaining_attr,default_class)\n",
        "            tree[best_attr][attr_val] = subtree\n",
        "    return tree"
      ],
      "execution_count": 0,
      "outputs": []
    },
    {
      "cell_type": "code",
      "metadata": {
        "id": "0jbAdSrnfl_K",
        "colab_type": "code",
        "colab": {
          "base_uri": "https://localhost:8080/",
          "height": 34
        },
        "outputId": "454a622b-878c-4800-dcc5-ff8309dadd7e"
      },
      "source": [
        "attr_name = list(df_Tennis.columns)\n",
        "print(attr_name)"
      ],
      "execution_count": 7,
      "outputs": [
        {
          "output_type": "stream",
          "text": [
            "['id', 'Outlook', 'Temperature', 'Humidity', 'Wind', 'PlayTennis']\n"
          ],
          "name": "stdout"
        }
      ]
    },
    {
      "cell_type": "code",
      "metadata": {
        "id": "j6o325w4fopK",
        "colab_type": "code",
        "colab": {
          "base_uri": "https://localhost:8080/",
          "height": 34
        },
        "outputId": "2d3406b9-77e1-47cf-da95-20d1d54fb333"
      },
      "source": [
        "attr_name.remove('PlayTennis')\n",
        "attr_name.remove('id')\n",
        "print(attr_name)"
      ],
      "execution_count": 8,
      "outputs": [
        {
          "output_type": "stream",
          "text": [
            "['Outlook', 'Temperature', 'Humidity', 'Wind']\n"
          ],
          "name": "stdout"
        }
      ]
    },
    {
      "cell_type": "code",
      "metadata": {
        "id": "dKAFCN6-frMa",
        "colab_type": "code",
        "colab": {
          "base_uri": "https://localhost:8080/",
          "height": 697
        },
        "outputId": "021115c3-fb62-4b66-a4c9-6f7522f831bd"
      },
      "source": [
        "from pprint import pprint\n",
        "tree = id3(df_Tennis,'PlayTennis',attr_name)\n",
        "print(\"\\n\\nfinal decision tree is: \\n\")\n",
        "pprint(tree)"
      ],
      "execution_count": 9,
      "outputs": [
        {
          "output_type": "stream",
          "text": [
            " No and Yes classes: PlayTennis Counter({'yes': 4})\n",
            " No and Yes classes: PlayTennis Counter({'yes': 3, 'no': 2})\n",
            " No and Yes classes: PlayTennis Counter({'no': 3, 'yes': 2})\n",
            " No and Yes classes: PlayTennis Counter({'yes': 9, 'no': 5})\n",
            " No and Yes classes: PlayTennis Counter({'yes': 3, 'no': 1})\n",
            " No and Yes classes: PlayTennis Counter({'no': 2, 'yes': 2})\n",
            " No and Yes classes: PlayTennis Counter({'yes': 4, 'no': 2})\n",
            " No and Yes classes: PlayTennis Counter({'yes': 9, 'no': 5})\n",
            " No and Yes classes: PlayTennis Counter({'no': 4, 'yes': 3})\n",
            " No and Yes classes: PlayTennis Counter({'yes': 6, 'no': 1})\n",
            " No and Yes classes: PlayTennis Counter({'yes': 9, 'no': 5})\n",
            " No and Yes classes: PlayTennis Counter({'no': 3, 'yes': 3})\n",
            " No and Yes classes: PlayTennis Counter({'yes': 6, 'no': 2})\n",
            " No and Yes classes: PlayTennis Counter({'yes': 9, 'no': 5})\n",
            " No and Yes classes: PlayTennis Counter({'yes': 1, 'no': 1})\n",
            " No and Yes classes: PlayTennis Counter({'yes': 2, 'no': 1})\n",
            " No and Yes classes: PlayTennis Counter({'yes': 3, 'no': 2})\n",
            " No and Yes classes: PlayTennis Counter({'yes': 1, 'no': 1})\n",
            " No and Yes classes: PlayTennis Counter({'yes': 2, 'no': 1})\n",
            " No and Yes classes: PlayTennis Counter({'yes': 3, 'no': 2})\n",
            " No and Yes classes: PlayTennis Counter({'no': 2})\n",
            " No and Yes classes: PlayTennis Counter({'yes': 3})\n",
            " No and Yes classes: PlayTennis Counter({'yes': 3, 'no': 2})\n",
            " No and Yes classes: PlayTennis Counter({'yes': 1})\n",
            " No and Yes classes: PlayTennis Counter({'no': 2})\n",
            " No and Yes classes: PlayTennis Counter({'no': 1, 'yes': 1})\n",
            " No and Yes classes: PlayTennis Counter({'no': 3, 'yes': 2})\n",
            " No and Yes classes: PlayTennis Counter({'no': 3})\n",
            " No and Yes classes: PlayTennis Counter({'yes': 2})\n",
            " No and Yes classes: PlayTennis Counter({'no': 3, 'yes': 2})\n",
            " No and Yes classes: PlayTennis Counter({'no': 1, 'yes': 1})\n",
            " No and Yes classes: PlayTennis Counter({'no': 2, 'yes': 1})\n",
            " No and Yes classes: PlayTennis Counter({'no': 3, 'yes': 2})\n",
            "\n",
            "\n",
            "final decision tree is: \n",
            "\n",
            "{'Outlook': {'overcast': 'yes',\n",
            "             'rainy': {'Wind': {'strong': 'no', 'weak': 'yes'}},\n",
            "             'sunny': {'Humidity': {'high': 'no', 'normal': 'yes'}}}}\n"
          ],
          "name": "stdout"
        }
      ]
    },
    {
      "cell_type": "code",
      "metadata": {
        "id": "NF7134cfftea",
        "colab_type": "code",
        "colab": {}
      },
      "source": [
        ""
      ],
      "execution_count": 0,
      "outputs": []
    },
    {
      "cell_type": "code",
      "metadata": {
        "id": "ik0bdhiAfGA8",
        "colab_type": "code",
        "colab": {}
      },
      "source": [
        ""
      ],
      "execution_count": 0,
      "outputs": []
    }
  ]
}