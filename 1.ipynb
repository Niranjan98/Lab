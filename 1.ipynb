{
  "nbformat": 4,
  "nbformat_minor": 0,
  "metadata": {
    "colab": {
      "name": "Untitled20.ipynb",
      "provenance": [],
      "include_colab_link": true
    },
    "kernelspec": {
      "name": "python3",
      "display_name": "Python 3"
    }
  },
  "cells": [
    {
      "cell_type": "markdown",
      "metadata": {
        "id": "view-in-github",
        "colab_type": "text"
      },
      "source": [
        "<a href=\"https://colab.research.google.com/github/Niranjan98/Lab/blob/master/5.ipynb\" target=\"_parent\"><img src=\"https://colab.research.google.com/assets/colab-badge.svg\" alt=\"Open In Colab\"/></a>"
      ]
    },
    {
      "cell_type": "code",
      "metadata": {
        "id": "-qRIkRs-7MYy",
        "colab_type": "code",
        "colab": {}
      },
      "source": [
        "import csv\n",
        "with open(\"/content/golf.csv\") as find:\n",
        "    reader = csv.reader(find)\n",
        "    data = list(reader)"
      ],
      "execution_count": 0,
      "outputs": []
    },
    {
      "cell_type": "code",
      "metadata": {
        "id": "imsYEQWv7f3B",
        "colab_type": "code",
        "colab": {
          "base_uri": "https://localhost:8080/",
          "height": 119
        },
        "outputId": "6e3e4774-a62a-4179-9572-e3d883b0b081"
      },
      "source": [
        "h = ['0','0','0','0','0','0']\n",
        "for row in data:\n",
        "    if row[-1] == 'Yes':\n",
        "        j=0\n",
        "        for col in row:\n",
        "            if col!='Yes':\n",
        "                if col!=h[j] and h[j] =='0':\n",
        "                    h[j] = col\n",
        "                    #print(col)\n",
        "                elif col!=h[j] and h[j]!='0':\n",
        "                    h[j]='?'\n",
        "                    print(col)\n",
        "            j= j+1\n",
        "print(h)"
      ],
      "execution_count": 2,
      "outputs": [
        {
          "output_type": "stream",
          "text": [
            "High\n",
            "Cold\n",
            "High\n",
            "Cold\n",
            "Change\n",
            "['Sunny', '?', '?', 'Strong', '?', '?']\n"
          ],
          "name": "stdout"
        }
      ]
    },
    {
      "cell_type": "code",
      "metadata": {
        "id": "dzB4eVCd7jLF",
        "colab_type": "code",
        "colab": {}
      },
      "source": [
        ""
      ],
      "execution_count": 0,
      "outputs": []
    }
  ]
}
