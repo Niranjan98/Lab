{
  "nbformat": 4,
  "nbformat_minor": 0,
  "metadata": {
    "colab": {
      "name": "Untitled14.ipynb",
      "provenance": [],
      "include_colab_link": true
    },
    "kernelspec": {
      "name": "python3",
      "display_name": "Python 3"
    }
  },
  "cells": [
    {
      "cell_type": "markdown",
      "metadata": {
        "id": "view-in-github",
        "colab_type": "text"
      },
      "source": [
        "<a href=\"https://colab.research.google.com/github/Niranjan98/Lab/blob/master/7.ipynb\" target=\"_parent\"><img src=\"https://colab.research.google.com/assets/colab-badge.svg\" alt=\"Open In Colab\"/></a>"
      ]
    },
    {
      "cell_type": "code",
      "metadata": {
        "id": "wyobHShP6NWK",
        "colab_type": "code",
        "colab": {
          "base_uri": "https://localhost:8080/",
          "height": 51
        },
        "outputId": "49f569ac-897d-4208-a4b6-9bf15f8991bc"
      },
      "source": [
        "!pip install pgmpy\n",
        "!pip install wrapt"
      ],
      "execution_count": 5,
      "outputs": [
        {
          "output_type": "stream",
          "text": [
            "Requirement already satisfied: pgmpy in /usr/local/lib/python3.6/dist-packages (0.1.9)\n",
            "Requirement already satisfied: wrapt in /usr/local/lib/python3.6/dist-packages (1.11.2)\n"
          ],
          "name": "stdout"
        }
      ]
    },
    {
      "cell_type": "code",
      "metadata": {
        "id": "OwauCHAJ6Op4",
        "colab_type": "code",
        "colab": {
          "base_uri": "https://localhost:8080/",
          "height": 289
        },
        "outputId": "d3a85494-103c-43df-cfc9-7ffd0b42865b"
      },
      "source": [
        "import pandas as pd\n",
        "from urllib.request import urlopen\n",
        "from pgmpy.models import BayesianModel\n",
        "from pgmpy.estimators import MaximumLikelihoodEstimator,BayesianEstimator\n",
        "\n",
        "names = \"A,B,C,D,E,F,G,H,I,J,K,L,M,RESULT\"\n",
        "names = names.split(\",\")\n",
        "print(names)\n",
        "\n",
        "data = pd.read_csv(urlopen(\"http://bit.do/heart-disease\"),names=names)\n",
        "data.head()\n",
        "\n",
        "model = BayesianModel([(\"A\",\"B\"),(\"B\",\"C\"),(\"C\",\"D\"),(\"D\",\"RESULT\")])\n",
        "model.fit(data,estimator=MaximumLikelihoodEstimator)\n",
        "\n",
        "from pgmpy.inference import VariableElimination\n",
        "infer = VariableElimination(model)\n",
        "q = infer.query(variables=['RESULT'],evidence={\"C\":2})\n",
        "print(q)"
      ],
      "execution_count": 6,
      "outputs": [
        {
          "output_type": "stream",
          "text": [
            "['A', 'B', 'C', 'D', 'E', 'F', 'G', 'H', 'I', 'J', 'K', 'L', 'M', 'RESULT']\n"
          ],
          "name": "stdout"
        },
        {
          "output_type": "stream",
          "text": [
            "Finding Elimination Order: : 100%|██████████| 3/3 [00:00<00:00, 443.14it/s]\n",
            "Eliminating: D: 100%|██████████| 3/3 [00:00<00:00, 229.51it/s]"
          ],
          "name": "stderr"
        },
        {
          "output_type": "stream",
          "text": [
            "+-----------+---------------+\n",
            "| RESULT    |   phi(RESULT) |\n",
            "+===========+===============+\n",
            "| RESULT(0) |        0.5740 |\n",
            "+-----------+---------------+\n",
            "| RESULT(1) |        0.1878 |\n",
            "+-----------+---------------+\n",
            "| RESULT(2) |        0.1201 |\n",
            "+-----------+---------------+\n",
            "| RESULT(3) |        0.0995 |\n",
            "+-----------+---------------+\n",
            "| RESULT(4) |        0.0186 |\n",
            "+-----------+---------------+\n"
          ],
          "name": "stdout"
        },
        {
          "output_type": "stream",
          "text": [
            "\n"
          ],
          "name": "stderr"
        }
      ]
    },
    {
      "cell_type": "code",
      "metadata": {
        "id": "Afs1m1mC7B2H",
        "colab_type": "code",
        "colab": {}
      },
      "source": [
        ""
      ],
      "execution_count": 0,
      "outputs": []
    }
  ]
}